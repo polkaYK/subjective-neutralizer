{
 "cells": [
  {
   "cell_type": "markdown",
   "metadata": {},
   "source": [
    "Цей документ містить першу спробу зробити модель класифікатора текстів нейтральної та \"упередженої\" стилістики. По ходу будуть якісь коментарі, але основні висновки будуть в кінці.\n",
    "\n",
    "Спочатку я завантажую скачані дані. На даний момент є така добірка:\n",
    "* до класу \"нейтральних текстів\" я відніс новини з порталу Лівий Берег та науково-популярні статті з журналів Куншт та WAS\n",
    "* до класу \"упереджених\" я відніс блоги з Лівого Берегу та замітки з сайту Нігіліст\n",
    "\n",
    "Першого разу я зробив класифікацію самих текстів, у цьому ж документі міститься класифікація окремих абзаців з цих текстів. "
   ]
  },
  {
   "cell_type": "code",
   "execution_count": 44,
   "metadata": {},
   "outputs": [
    {
     "name": "stderr",
     "output_type": "stream",
     "text": [
      "2020-05-01 23:28:00 INFO: Loading these models for language: uk (Ukrainian):\n",
      "=======================\n",
      "| Processor | Package |\n",
      "-----------------------\n",
      "| tokenize  | iu      |\n",
      "| mwt       | iu      |\n",
      "| pos       | iu      |\n",
      "| lemma     | iu      |\n",
      "| depparse  | iu      |\n",
      "=======================\n",
      "\n",
      "2020-05-01 23:28:00 INFO: Use device: cpu\n",
      "2020-05-01 23:28:00 INFO: Loading: tokenize\n",
      "2020-05-01 23:28:00 INFO: Loading: mwt\n",
      "2020-05-01 23:28:00 INFO: Loading: pos\n",
      "2020-05-01 23:28:00 INFO: Loading: lemma\n",
      "2020-05-01 23:28:00 INFO: Loading: depparse\n",
      "2020-05-01 23:28:01 INFO: Done loading processors!\n"
     ]
    }
   ],
   "source": [
    "import joblib\n",
    "import pandas as pd\n",
    "from sklearn.model_selection import train_test_split\n",
    "from sklearn.metrics import accuracy_score, roc_auc_score, classification_report\n",
    "import stanza\n",
    "from spacy_stanza import StanzaLanguage\n",
    "from tqdm.notebook import tqdm\n",
    "import spacy\n",
    "import matplotlib.pyplot as plt\n",
    "\n",
    "snlp = stanza.Pipeline(lang=\"uk\")\n",
    "nlp = StanzaLanguage(snlp)"
   ]
  },
  {
   "cell_type": "code",
   "execution_count": 2,
   "metadata": {},
   "outputs": [],
   "source": [
    "import matplotlib\n",
    "\n",
    "matplotlib.rcParams['figure.figsize'] = (20, 10)\n",
    "matplotlib.rcParams['figure.dpi'] = 100"
   ]
  },
  {
   "cell_type": "code",
   "execution_count": 3,
   "metadata": {},
   "outputs": [],
   "source": [
    "def text_prettifier(texts, site):\n",
    "    prettified = []\n",
    "    for paragraphs in texts:\n",
    "        if site == 'kunsht':\n",
    "            pretty_text = ' '.join([p.replace('\\xa0', ' ') for p in paragraphs[:-8] if len(p)>1])\n",
    "        elif (site == 'nihilist' or site == 'was') and len(paragraphs) > 3:\n",
    "            pretty_text = ' '.join([p.replace('\\xa0', ' ') for p in paragraphs[:-1] if len(p.split(' '))>3])\n",
    "        elif site == 'lb' and len(paragraphs) > 3:\n",
    "            pretty_text = ' '.join([p.replace('\\xa0', ' ') for p in paragraphs if len(p.split(' '))>3])\n",
    "        else:\n",
    "            print ('wring site keyword')\n",
    "            return\n",
    "        prettified.append(pretty_text)\n",
    "    return prettified\n",
    "\n",
    "def paragraph_prettifier(texts, site):\n",
    "    prettified_paragraphs = []\n",
    "    if site == 'kunsht':\n",
    "        p_slice = slice(-8)\n",
    "    elif site == 'was' or site == 'nihilist':\n",
    "        p_slice =slice(-1)\n",
    "    elif site in ('lb_blogs', 'lb_news'):\n",
    "        p_slice = slice(None,None)\n",
    "    for paragraphs in texts:\n",
    "        for p in paragraphs[p_slice]:\n",
    "            if len(p) > 3 and len(p.split(' '))>5 and not p.isspace(): \n",
    "                    prettified_paragraphs.append(p)\n",
    "    return prettified_paragraphs"
   ]
  },
  {
   "cell_type": "code",
   "execution_count": 4,
   "metadata": {},
   "outputs": [],
   "source": [
    "raw_data = {\n",
    "    'kunsht': joblib.load('kunsht.joblib'), \n",
    "    'nihilist': joblib.load('nihilist.joblib'), \n",
    "    'lb_blogs': joblib.load('lb_100_pages.joblib'), \n",
    "    'was': joblib.load('was_texts.joblib'),\n",
    "    'lb_news': joblib.load('lb_politycs_news_for_100_pages.joblib'),\n",
    "}"
   ]
  },
  {
   "cell_type": "code",
   "execution_count": 5,
   "metadata": {},
   "outputs": [
    {
     "name": "stdout",
     "output_type": "stream",
     "text": [
      "Number of texts before processing\n",
      "kunsht 177 4915\n",
      "Number of texts before processing\n",
      "nihilist 241 4146\n",
      "Number of texts before processing\n",
      "lb_blogs 1786 28809\n",
      "Number of texts before processing\n",
      "was 448 10257\n",
      "Number of texts before processing\n",
      "lb_news 2195 17492\n"
     ]
    }
   ],
   "source": [
    "paragraphs_data = {}\n",
    "\n",
    "for site, data in raw_data.items():\n",
    "    print('Number of texts before processing')\n",
    "    paragraphs_data[site] = paragraph_prettifier(data, site)\n",
    "    print(site, len(data), len(paragraphs_data[site]))"
   ]
  },
  {
   "cell_type": "code",
   "execution_count": 5,
   "metadata": {},
   "outputs": [],
   "source": [
    "spacy_docs = {}"
   ]
  },
  {
   "cell_type": "markdown",
   "metadata": {},
   "source": [
    "Для першої спроби я взяв лише 1500 параграфів з кожної категорії, тому що обробка їх з допомогою мовної моделі займає десь годину. З параграфів я подіставав деякі фічі, які пробував передавати векторайзеру по черзі, дивлячись, чи змінюється метрика. Такі фічі: \n",
    "* сирий текст\n",
    "* леми\n",
    "* просто POS теги замість слів\n",
    "* текст без стоп-слів\n",
    "* сирий текст, але усі PROPN замінені на тег PROPN. Це була така апроксимація того, як я замінив би у тексті іменовані сутності, просто ще не дійшов до NER моделі."
   ]
  },
  {
   "cell_type": "code",
   "execution_count": 6,
   "metadata": {},
   "outputs": [
    {
     "data": {
      "application/vnd.jupyter.widget-view+json": {
       "model_id": "9992330188624b938c5878e8d70e1f17",
       "version_major": 2,
       "version_minor": 0
      },
      "text/plain": [
       "HBox(children=(FloatProgress(value=1.0, bar_style='info', max=1.0), HTML(value='')))"
      ]
     },
     "metadata": {},
     "output_type": "display_data"
    },
    {
     "name": "stdout",
     "output_type": "stream",
     "text": [
      "\n"
     ]
    },
    {
     "data": {
      "application/vnd.jupyter.widget-view+json": {
       "model_id": "daca17c228c946ea9d66541b7808493e",
       "version_major": 2,
       "version_minor": 0
      },
      "text/plain": [
       "HBox(children=(FloatProgress(value=1.0, bar_style='info', max=1.0), HTML(value='')))"
      ]
     },
     "metadata": {},
     "output_type": "display_data"
    },
    {
     "name": "stdout",
     "output_type": "stream",
     "text": [
      "\n"
     ]
    },
    {
     "data": {
      "application/vnd.jupyter.widget-view+json": {
       "model_id": "50493e7f106c42d8a049dbbd21fcf2b3",
       "version_major": 2,
       "version_minor": 0
      },
      "text/plain": [
       "HBox(children=(FloatProgress(value=1.0, bar_style='info', max=1.0), HTML(value='')))"
      ]
     },
     "metadata": {},
     "output_type": "display_data"
    },
    {
     "name": "stdout",
     "output_type": "stream",
     "text": [
      "\n"
     ]
    },
    {
     "data": {
      "application/vnd.jupyter.widget-view+json": {
       "model_id": "c2601f2f6a1b4365ad67524035f0ff66",
       "version_major": 2,
       "version_minor": 0
      },
      "text/plain": [
       "HBox(children=(FloatProgress(value=1.0, bar_style='info', max=1.0), HTML(value='')))"
      ]
     },
     "metadata": {},
     "output_type": "display_data"
    },
    {
     "name": "stdout",
     "output_type": "stream",
     "text": [
      "\n"
     ]
    },
    {
     "data": {
      "application/vnd.jupyter.widget-view+json": {
       "model_id": "cebc97baa9c74ef9830363d71e584f56",
       "version_major": 2,
       "version_minor": 0
      },
      "text/plain": [
       "HBox(children=(FloatProgress(value=1.0, bar_style='info', max=1.0), HTML(value='')))"
      ]
     },
     "metadata": {},
     "output_type": "display_data"
    },
    {
     "name": "stdout",
     "output_type": "stream",
     "text": [
      "\n"
     ]
    }
   ],
   "source": [
    "#spacy_docs = {}\n",
    "\n",
    "for site, data in paragraphs_data.items():\n",
    "    spacy_docs[site] = list(tqdm(nlp.pipe(data[:1500])))"
   ]
  },
  {
   "cell_type": "code",
   "execution_count": 6,
   "metadata": {},
   "outputs": [],
   "source": [
    "def extract_features_with_spacy(doc):\n",
    "    lemmas = []\n",
    "    text_without_stops = []\n",
    "    poses = []\n",
    "    \n",
    "    doc_tokens = [w.text for w in doc]\n",
    "    for word in doc:\n",
    "        if word not in spacy.lang.uk.stop_words.STOP_WORDS:\n",
    "            text_without_stops.append(word.text)\n",
    "        lemmas.append(word.lemma_)\n",
    "        poses.append(word.pos_)\n",
    "    text_without_propn = [\n",
    "        word if pos != 'PROPN' else pos\n",
    "        for (word, pos)\n",
    "        in zip(doc_tokens, poses)\n",
    "    ]\n",
    "    return text_without_stops, lemmas, poses, text_without_propn"
   ]
  },
  {
   "cell_type": "code",
   "execution_count": 8,
   "metadata": {},
   "outputs": [
    {
     "data": {
      "text/plain": [
       "У землі ховається чимало нових відкриттів. Палеонтолог Вадим Яненко знає це як ніхто. Разом із колегою з Швейцарії Давідом Василяном він описав новий вид саламандр – Palaeoproteus miocenicus. Їхні рештки знайшли зокрема в селі Гриців Хмельницької області. Статтю про відкриття вчених опублікували в журналі Nature. Куншт поговорив з Вадимом про методи дослідження викопних решток і те, як опублікувати своє дослідження в одному з найвідоміших наукових журналів."
      ]
     },
     "execution_count": 8,
     "metadata": {},
     "output_type": "execute_result"
    }
   ],
   "source": [
    "doc = spacy_docs['kunsht'][0]\n",
    "doc"
   ]
  },
  {
   "cell_type": "code",
   "execution_count": null,
   "metadata": {},
   "outputs": [],
   "source": []
  },
  {
   "cell_type": "markdown",
   "metadata": {},
   "source": [
    "### 2 It's Modeling Time!"
   ]
  },
  {
   "cell_type": "code",
   "execution_count": 9,
   "metadata": {},
   "outputs": [],
   "source": [
    "site_to_label = {\n",
    "    'kunsht': ('neutral', 'val'),\n",
    "    'nihilist': ('subjective', 'val'), \n",
    "    'lb_blogs': ('subjective', 'train'), \n",
    "    'was': ('neutral', 'val'),\n",
    "    'lb_news': ('neutral', 'train'),\n",
    "}"
   ]
  },
  {
   "cell_type": "code",
   "execution_count": 10,
   "metadata": {},
   "outputs": [
    {
     "name": "stdout",
     "output_type": "stream",
     "text": [
      "added kunsht\n",
      "added nihilist\n",
      "added lb_blogs\n",
      "added was\n",
      "added lb_news\n"
     ]
    }
   ],
   "source": [
    "total_texts = []\n",
    "for site, (label, sample) in site_to_label.items():\n",
    "    for doc in spacy_docs[site]:\n",
    "        text_without_stops, lemmas, poses, text_without_propn = extract_features_with_spacy(doc)\n",
    "        text = doc.text\n",
    "        total_texts += [\n",
    "            (site, \n",
    "             label, \n",
    "             sample, \n",
    "             text, \n",
    "             ' '.join(text_without_stops), \n",
    "             ' '.join(lemmas), \n",
    "             ' '.join(poses), \n",
    "             ' '.join(text_without_propn)) \n",
    "        ]\n",
    "    print(f'added {site}')"
   ]
  },
  {
   "cell_type": "code",
   "execution_count": 11,
   "metadata": {},
   "outputs": [],
   "source": [
    "df = pd.DataFrame(total_texts, columns=['site', 'label', 'sample', 'text', 'w_stops', 'lemmas', 'poses', 'text_without_propn'])\n",
    "#val_df = pd.DataFrame(validate, columns=['text', 'label', 'w_stops', 'lemmas', 'poses'])"
   ]
  },
  {
   "cell_type": "code",
   "execution_count": 12,
   "metadata": {},
   "outputs": [
    {
     "data": {
      "text/html": [
       "<div>\n",
       "<style scoped>\n",
       "    .dataframe tbody tr th:only-of-type {\n",
       "        vertical-align: middle;\n",
       "    }\n",
       "\n",
       "    .dataframe tbody tr th {\n",
       "        vertical-align: top;\n",
       "    }\n",
       "\n",
       "    .dataframe thead th {\n",
       "        text-align: right;\n",
       "    }\n",
       "</style>\n",
       "<table border=\"1\" class=\"dataframe\">\n",
       "  <thead>\n",
       "    <tr style=\"text-align: right;\">\n",
       "      <th></th>\n",
       "      <th>site</th>\n",
       "      <th>label</th>\n",
       "      <th>sample</th>\n",
       "      <th>text</th>\n",
       "      <th>w_stops</th>\n",
       "      <th>lemmas</th>\n",
       "      <th>poses</th>\n",
       "      <th>text_without_propn</th>\n",
       "    </tr>\n",
       "  </thead>\n",
       "  <tbody>\n",
       "    <tr>\n",
       "      <th>0</th>\n",
       "      <td>kunsht</td>\n",
       "      <td>neutral</td>\n",
       "      <td>val</td>\n",
       "      <td>У землі ховається чимало нових відкриттів. Пал...</td>\n",
       "      <td>У землі ховається чимало нових відкриттів . Па...</td>\n",
       "      <td>у земля ховатися чимало новий відкриття . пале...</td>\n",
       "      <td>ADP NOUN VERB ADV ADJ NOUN PUNCT NOUN PROPN PR...</td>\n",
       "      <td>У землі ховається чимало нових відкриттів . Па...</td>\n",
       "    </tr>\n",
       "    <tr>\n",
       "      <th>1</th>\n",
       "      <td>kunsht</td>\n",
       "      <td>neutral</td>\n",
       "      <td>val</td>\n",
       "      <td>Це була досить цікава історія. Я орнітолог, на...</td>\n",
       "      <td>Це була досить цікава історія . Я орнітолог , ...</td>\n",
       "      <td>це бути досить цікавий історія . я орнітолог ,...</td>\n",
       "      <td>PRON AUX ADV ADJ NOUN PUNCT PRON NOUN PUNCT VE...</td>\n",
       "      <td>Це була досить цікава історія . Я орнітолог , ...</td>\n",
       "    </tr>\n",
       "    <tr>\n",
       "      <th>2</th>\n",
       "      <td>kunsht</td>\n",
       "      <td>neutral</td>\n",
       "      <td>val</td>\n",
       "      <td>У 2017 році мій колега Олександр Ковальчук поз...</td>\n",
       "      <td>У 2017 році мій колега Олександр Ковальчук поз...</td>\n",
       "      <td>у 2017 рік мій колега Олександр Ковальчук позн...</td>\n",
       "      <td>ADP ADJ NOUN DET NOUN PROPN PROPN VERB PRON AD...</td>\n",
       "      <td>У 2017 році мій колега PROPN PROPN познайомив ...</td>\n",
       "    </tr>\n",
       "    <tr>\n",
       "      <th>3</th>\n",
       "      <td>kunsht</td>\n",
       "      <td>neutral</td>\n",
       "      <td>val</td>\n",
       "      <td>Міоцен – найновіша епоха періоду неогену, друг...</td>\n",
       "      <td>Міоцен – найновіша епоха періоду неогену , дру...</td>\n",
       "      <td>міоцен – найновіший епоха період неогена , дру...</td>\n",
       "      <td>NOUN PUNCT ADJ NOUN NOUN NOUN PUNCT ADJ NOUN A...</td>\n",
       "      <td>Міоцен – найновіша епоха періоду неогену , дру...</td>\n",
       "    </tr>\n",
       "    <tr>\n",
       "      <th>4</th>\n",
       "      <td>kunsht</td>\n",
       "      <td>neutral</td>\n",
       "      <td>val</td>\n",
       "      <td>Серед земноводних, що жили на території Україн...</td>\n",
       "      <td>Серед земноводних , що жили на території Украї...</td>\n",
       "      <td>серед земноводний , що жити на територія Украї...</td>\n",
       "      <td>ADP ADJ PUNCT SCONJ VERB ADP NOUN PROPN ADP NO...</td>\n",
       "      <td>Серед земноводних , що жили на території PROPN...</td>\n",
       "    </tr>\n",
       "  </tbody>\n",
       "</table>\n",
       "</div>"
      ],
      "text/plain": [
       "     site    label sample                                               text  \\\n",
       "0  kunsht  neutral    val  У землі ховається чимало нових відкриттів. Пал...   \n",
       "1  kunsht  neutral    val  Це була досить цікава історія. Я орнітолог, на...   \n",
       "2  kunsht  neutral    val  У 2017 році мій колега Олександр Ковальчук поз...   \n",
       "3  kunsht  neutral    val  Міоцен – найновіша епоха періоду неогену, друг...   \n",
       "4  kunsht  neutral    val  Серед земноводних, що жили на території Україн...   \n",
       "\n",
       "                                             w_stops  \\\n",
       "0  У землі ховається чимало нових відкриттів . Па...   \n",
       "1  Це була досить цікава історія . Я орнітолог , ...   \n",
       "2  У 2017 році мій колега Олександр Ковальчук поз...   \n",
       "3  Міоцен – найновіша епоха періоду неогену , дру...   \n",
       "4  Серед земноводних , що жили на території Украї...   \n",
       "\n",
       "                                              lemmas  \\\n",
       "0  у земля ховатися чимало новий відкриття . пале...   \n",
       "1  це бути досить цікавий історія . я орнітолог ,...   \n",
       "2  у 2017 рік мій колега Олександр Ковальчук позн...   \n",
       "3  міоцен – найновіший епоха період неогена , дру...   \n",
       "4  серед земноводний , що жити на територія Украї...   \n",
       "\n",
       "                                               poses  \\\n",
       "0  ADP NOUN VERB ADV ADJ NOUN PUNCT NOUN PROPN PR...   \n",
       "1  PRON AUX ADV ADJ NOUN PUNCT PRON NOUN PUNCT VE...   \n",
       "2  ADP ADJ NOUN DET NOUN PROPN PROPN VERB PRON AD...   \n",
       "3  NOUN PUNCT ADJ NOUN NOUN NOUN PUNCT ADJ NOUN A...   \n",
       "4  ADP ADJ PUNCT SCONJ VERB ADP NOUN PROPN ADP NO...   \n",
       "\n",
       "                                  text_without_propn  \n",
       "0  У землі ховається чимало нових відкриттів . Па...  \n",
       "1  Це була досить цікава історія . Я орнітолог , ...  \n",
       "2  У 2017 році мій колега PROPN PROPN познайомив ...  \n",
       "3  Міоцен – найновіша епоха періоду неогену , дру...  \n",
       "4  Серед земноводних , що жили на території PROPN...  "
      ]
     },
     "execution_count": 12,
     "metadata": {},
     "output_type": "execute_result"
    }
   ],
   "source": [
    "df.head()"
   ]
  },
  {
   "cell_type": "code",
   "execution_count": 13,
   "metadata": {},
   "outputs": [
    {
     "data": {
      "text/plain": [
       "(7500, 8)"
      ]
     },
     "execution_count": 13,
     "metadata": {},
     "output_type": "execute_result"
    }
   ],
   "source": [
    "df.shape"
   ]
  },
  {
   "cell_type": "markdown",
   "metadata": {},
   "source": [
    "У деяких текстах попливло кодування чогось, ну і Рудоманова треба прибрати) Це, звісно, не вся чистка тексів, що потрібна, треба буде список цей розширити."
   ]
  },
  {
   "cell_type": "code",
   "execution_count": 14,
   "metadata": {},
   "outputs": [],
   "source": [
    "df = df[(~df['text'].str.contains('Рудоманов')) |(~df['text'].str.contains('Ð'))].copy()\n",
    "#val_df = val_df[~val_df['text'].str.contains('Ð')].copy()"
   ]
  },
  {
   "cell_type": "code",
   "execution_count": 74,
   "metadata": {},
   "outputs": [],
   "source": [
    "df.to_csv('df_up_to_1500.csv')"
   ]
  },
  {
   "cell_type": "code",
   "execution_count": 7,
   "metadata": {},
   "outputs": [],
   "source": [
    "df = pd.read_csv('df_up_to_1500.csv')"
   ]
  },
  {
   "cell_type": "code",
   "execution_count": 8,
   "metadata": {},
   "outputs": [
    {
     "data": {
      "text/plain": [
       "neutral       4500\n",
       "subjective    3000\n",
       "Name: label, dtype: int64"
      ]
     },
     "execution_count": 8,
     "metadata": {},
     "output_type": "execute_result"
    }
   ],
   "source": [
    "df['label'].value_counts()"
   ]
  },
  {
   "cell_type": "markdown",
   "metadata": {},
   "source": [
    "Далі я спробував по одній колонці віддавати до векторайзера і дивитись, як сильно змінюється метрика. Дивився я на класіфікейшн репорт, а також окремо на ROC_AUC та F-0.5. Я думаю, що F-0.5 будет остаточною метрикою мого проекту, тому що нейтральність це річ неоднозначна, бо краще більш впевнено казати лише про окремі речі, тому precision має важити більше ніж recall.\n",
    "\n",
    "Зараз я не сильно піклувався про гіперпараметри і конкретні моделі, тому що, мені здається, що це другорядна річ на даному етапі. Про це я сужу з того, що зараз більшою проблемою є постановка проблеми та датасет. Про це я також докладніше напишу в кінці. "
   ]
  },
  {
   "cell_type": "code",
   "execution_count": 9,
   "metadata": {},
   "outputs": [],
   "source": [
    "column_to_try = 'text_without_propn'"
   ]
  },
  {
   "cell_type": "code",
   "execution_count": 10,
   "metadata": {},
   "outputs": [],
   "source": [
    "X_train_dev, X_test, y_train_dev, y_test = train_test_split(\n",
    "    df[df['sample'] == 'train'][column_to_try],\n",
    "    df[df['sample'] == 'train']['label'],\n",
    "    random_state=42,\n",
    "    test_size=0.10,\n",
    "    stratify=df[df['sample'] == 'train']['label']\n",
    ")"
   ]
  },
  {
   "cell_type": "code",
   "execution_count": 11,
   "metadata": {},
   "outputs": [],
   "source": [
    "X_train, X_dev, y_train, y_dev = train_test_split(\n",
    "    X_train_dev,\n",
    "    y_train_dev,\n",
    "    random_state=42,\n",
    "    test_size=0.20,\n",
    "    stratify=y_train_dev\n",
    ")"
   ]
  },
  {
   "cell_type": "code",
   "execution_count": 12,
   "metadata": {},
   "outputs": [],
   "source": [
    "X_val = df[df['sample']=='val'][column_to_try]\n",
    "y_val = df[df['sample']=='val']['label']"
   ]
  },
  {
   "cell_type": "code",
   "execution_count": 13,
   "metadata": {},
   "outputs": [
    {
     "name": "stdout",
     "output_type": "stream",
     "text": [
      "(2160,) (2160,)\n"
     ]
    }
   ],
   "source": [
    "print(X_train.shape, y_train.shape)"
   ]
  },
  {
   "cell_type": "code",
   "execution_count": 14,
   "metadata": {},
   "outputs": [
    {
     "data": {
      "text/plain": [
       "subjective    1080\n",
       "neutral       1080\n",
       "Name: label, dtype: int64"
      ]
     },
     "execution_count": 14,
     "metadata": {},
     "output_type": "execute_result"
    }
   ],
   "source": [
    "y_train.value_counts()"
   ]
  },
  {
   "cell_type": "code",
   "execution_count": 15,
   "metadata": {},
   "outputs": [
    {
     "name": "stdout",
     "output_type": "stream",
     "text": [
      "              precision    recall  f1-score   support\n",
      "\n",
      "     neutral       0.00      0.00      0.00       270\n",
      "  subjective       0.50      1.00      0.67       270\n",
      "\n",
      "    accuracy                           0.50       540\n",
      "   macro avg       0.25      0.50      0.33       540\n",
      "weighted avg       0.25      0.50      0.33       540\n",
      "\n"
     ]
    },
    {
     "name": "stderr",
     "output_type": "stream",
     "text": [
      "/home/yevhen/anaconda3/lib/python3.7/site-packages/sklearn/metrics/classification.py:1437: UndefinedMetricWarning: Precision and F-score are ill-defined and being set to 0.0 in labels with no predicted samples.\n",
      "  'precision', 'predicted', average, warn_for)\n"
     ]
    }
   ],
   "source": [
    "print(classification_report(y_dev, ['subjective']*len(y_dev)))"
   ]
  },
  {
   "cell_type": "code",
   "execution_count": 16,
   "metadata": {},
   "outputs": [],
   "source": [
    "from sklearn.model_selection import train_test_split\n",
    "from sklearn.preprocessing import StandardScaler\n",
    "from sklearn.feature_extraction.text import CountVectorizer, TfidfTransformer, TfidfVectorizer\n",
    "from sklearn.linear_model import LogisticRegression, SGDClassifier\n",
    "from sklearn.ensemble import RandomForestClassifier\n",
    "from sklearn.metrics import classification_report, fbeta_score\n",
    "from sklearn.pipeline import Pipeline"
   ]
  },
  {
   "cell_type": "code",
   "execution_count": 17,
   "metadata": {},
   "outputs": [],
   "source": [
    "count_lr_clf = Pipeline([\n",
    "    ('vect', CountVectorizer(ngram_range=(1,3))),\n",
    "    ('scaler', StandardScaler(with_mean=False)),\n",
    "    ('clf', LogisticRegression(\n",
    "        random_state=42, \n",
    "        solver = 'sag',\n",
    "        multi_class='multinomial',\n",
    "        max_iter=6000,\n",
    "    )),\n",
    "])"
   ]
  },
  {
   "cell_type": "code",
   "execution_count": 18,
   "metadata": {},
   "outputs": [],
   "source": [
    "tf_clf = Pipeline([\n",
    "    ('vect', TfidfVectorizer(min_df=3,  max_features=None, \n",
    "            strip_accents='unicode', analyzer='word',\n",
    "            ngram_range=(1, 3), use_idf=1,smooth_idf=1,sublinear_tf=1)),\n",
    "    ('scaler', StandardScaler(with_mean=False)),\n",
    "    ('clf', LogisticRegression(\n",
    "        random_state=42, \n",
    "        solver = 'sag',\n",
    "        multi_class='multinomial',\n",
    "        max_iter=6000,\n",
    "    )),\n",
    "])"
   ]
  },
  {
   "cell_type": "code",
   "execution_count": 19,
   "metadata": {},
   "outputs": [],
   "source": [
    "tf_rf = Pipeline([\n",
    "    ('vect', TfidfVectorizer(min_df=3,  max_features=None, \n",
    "            strip_accents='unicode', analyzer='word',\n",
    "            ngram_range=(1, 3), use_idf=1,smooth_idf=1,sublinear_tf=1)),\n",
    "    ('scaler', StandardScaler(with_mean=False)),\n",
    "    ('clf', RandomForestClassifier(\n",
    "        random_state=42, \n",
    "        max_depth=20,   \n",
    "        n_estimators=4000,\n",
    "        n_jobs=-1\n",
    "    )),\n",
    "])"
   ]
  },
  {
   "cell_type": "code",
   "execution_count": 20,
   "metadata": {},
   "outputs": [
    {
     "data": {
      "text/plain": [
       "4123    Міжнародний досвід засвідчує , що боргові криз...\n",
       "6523    Серед людей , яких PROPN видала 16 квітня в ра...\n",
       "3565    - Представляти інтереси PROPN у закордонних юр...\n",
       "7191    За його словами , PROPN \" кожен день чекає ост...\n",
       "3507             1 . Податковий напрям : земля як тягар .\n",
       "                              ...                        \n",
       "3142    Давайте одразу домовимося — не існує терміну «...\n",
       "3833    Автором , проекту Закону PROPN « Про внесення ...\n",
       "7251    PROPN PROPN , вважає слідство , знав про задум...\n",
       "3783    Ми ще звернемося до цієї справи , адже в істор...\n",
       "4185    У КК є відповідно норма про опір працівникові ...\n",
       "Name: text_without_propn, Length: 2160, dtype: object"
      ]
     },
     "execution_count": 20,
     "metadata": {},
     "output_type": "execute_result"
    }
   ],
   "source": [
    "X_train"
   ]
  },
  {
   "cell_type": "code",
   "execution_count": 21,
   "metadata": {},
   "outputs": [],
   "source": [
    "count_lr_clf.fit(X_train, y_train);"
   ]
  },
  {
   "cell_type": "code",
   "execution_count": 22,
   "metadata": {},
   "outputs": [],
   "source": [
    "tf_clf.fit(X_train, y_train);"
   ]
  },
  {
   "cell_type": "code",
   "execution_count": 23,
   "metadata": {},
   "outputs": [],
   "source": [
    "tf_rf.fit(X_train, y_train);"
   ]
  },
  {
   "cell_type": "code",
   "execution_count": 24,
   "metadata": {},
   "outputs": [
    {
     "name": "stdout",
     "output_type": "stream",
     "text": [
      "TRAIN PERFORMANCE\n",
      "LogisticRegression(C=1.0, class_weight=None, dual=False, fit_intercept=True,\n",
      "                   intercept_scaling=1, l1_ratio=None, max_iter=6000,\n",
      "                   multi_class='multinomial', n_jobs=None, penalty='l2',\n",
      "                   random_state=42, solver='sag', tol=0.0001, verbose=0,\n",
      "                   warm_start=False)\n",
      "              precision    recall  f1-score   support\n",
      "\n",
      "     neutral       0.88      0.90      0.89       270\n",
      "  subjective       0.90      0.87      0.89       270\n",
      "\n",
      "    accuracy                           0.89       540\n",
      "   macro avg       0.89      0.89      0.89       540\n",
      "weighted avg       0.89      0.89      0.89       540\n",
      "\n",
      "ROC-AUC score = 0.9357064471879286\n",
      "F-0.5 score = 0.8925869894099848\n",
      "================================================================================\n",
      "LogisticRegression(C=1.0, class_weight=None, dual=False, fit_intercept=True,\n",
      "                   intercept_scaling=1, l1_ratio=None, max_iter=6000,\n",
      "                   multi_class='multinomial', n_jobs=None, penalty='l2',\n",
      "                   random_state=42, solver='sag', tol=0.0001, verbose=0,\n",
      "                   warm_start=False)\n",
      "              precision    recall  f1-score   support\n",
      "\n",
      "     neutral       0.87      0.84      0.86       270\n",
      "  subjective       0.85      0.87      0.86       270\n",
      "\n",
      "    accuracy                           0.86       540\n",
      "   macro avg       0.86      0.86      0.86       540\n",
      "weighted avg       0.86      0.86      0.86       540\n",
      "\n",
      "ROC-AUC score = 0.941522633744856\n",
      "F-0.5 score = 0.8526850507982583\n",
      "================================================================================\n",
      "RandomForestClassifier(bootstrap=True, class_weight=None, criterion='gini',\n",
      "                       max_depth=20, max_features='auto', max_leaf_nodes=None,\n",
      "                       min_impurity_decrease=0.0, min_impurity_split=None,\n",
      "                       min_samples_leaf=1, min_samples_split=2,\n",
      "                       min_weight_fraction_leaf=0.0, n_estimators=4000,\n",
      "                       n_jobs=-1, oob_score=False, random_state=42, verbose=0,\n",
      "                       warm_start=False)\n",
      "              precision    recall  f1-score   support\n",
      "\n",
      "     neutral       0.81      0.81      0.81       270\n",
      "  subjective       0.81      0.80      0.81       270\n",
      "\n",
      "    accuracy                           0.81       540\n",
      "   macro avg       0.81      0.81      0.81       540\n",
      "weighted avg       0.81      0.81      0.81       540\n",
      "\n",
      "ROC-AUC score = 0.8965020576131688\n",
      "F-0.5 score = 0.8109118086696561\n",
      "================================================================================\n"
     ]
    }
   ],
   "source": [
    "print('TRAIN PERFORMANCE')\n",
    "for clf in (count_lr_clf, tf_clf, tf_rf):\n",
    "    y_pred = clf.predict(X_dev)\n",
    "    y_pred_proba = clf.predict_proba(X_dev)[:,1]\n",
    "    f_beta_score = fbeta_score(y_dev, y_pred, beta=0.5, pos_label='subjective')\n",
    "    print(clf['clf'])\n",
    "    print(classification_report(y_dev, y_pred))\n",
    "    print(f'ROC-AUC score = {roc_auc_score(y_dev, y_pred_proba)}')\n",
    "    print(f'F-0.5 score = {f_beta_score}')\n",
    "    print('='*80)\n"
   ]
  },
  {
   "cell_type": "code",
   "execution_count": 25,
   "metadata": {},
   "outputs": [
    {
     "name": "stdout",
     "output_type": "stream",
     "text": [
      "LogisticRegression(C=1.0, class_weight=None, dual=False, fit_intercept=True,\n",
      "                   intercept_scaling=1, l1_ratio=None, max_iter=6000,\n",
      "                   multi_class='multinomial', n_jobs=None, penalty='l2',\n",
      "                   random_state=42, solver='sag', tol=0.0001, verbose=0,\n",
      "                   warm_start=False)\n",
      "              precision    recall  f1-score   support\n",
      "\n",
      "     neutral       0.71      0.35      0.47      3000\n",
      "  subjective       0.35      0.72      0.47      1500\n",
      "\n",
      "    accuracy                           0.47      4500\n",
      "   macro avg       0.53      0.53      0.47      4500\n",
      "weighted avg       0.59      0.47      0.47      4500\n",
      "\n",
      "ROC-AUC score = 0.5763513333333333\n",
      "F-0.5 score = 0.39425338036449153\n",
      "================================================================================\n",
      "LogisticRegression(C=1.0, class_weight=None, dual=False, fit_intercept=True,\n",
      "                   intercept_scaling=1, l1_ratio=None, max_iter=6000,\n",
      "                   multi_class='multinomial', n_jobs=None, penalty='l2',\n",
      "                   random_state=42, solver='sag', tol=0.0001, verbose=0,\n",
      "                   warm_start=False)\n",
      "              precision    recall  f1-score   support\n",
      "\n",
      "     neutral       0.72      0.26      0.38      3000\n",
      "  subjective       0.35      0.80      0.49      1500\n",
      "\n",
      "    accuracy                           0.44      4500\n",
      "   macro avg       0.53      0.53      0.43      4500\n",
      "weighted avg       0.59      0.44      0.41      4500\n",
      "\n",
      "ROC-AUC score = 0.584254\n",
      "F-0.5 score = 0.39288532351394\n",
      "================================================================================\n",
      "RandomForestClassifier(bootstrap=True, class_weight=None, criterion='gini',\n",
      "                       max_depth=20, max_features='auto', max_leaf_nodes=None,\n",
      "                       min_impurity_decrease=0.0, min_impurity_split=None,\n",
      "                       min_samples_leaf=1, min_samples_split=2,\n",
      "                       min_weight_fraction_leaf=0.0, n_estimators=4000,\n",
      "                       n_jobs=-1, oob_score=False, random_state=42, verbose=0,\n",
      "                       warm_start=False)\n",
      "              precision    recall  f1-score   support\n",
      "\n",
      "     neutral       0.73      0.41      0.52      3000\n",
      "  subjective       0.37      0.71      0.49      1500\n",
      "\n",
      "    accuracy                           0.51      4500\n",
      "   macro avg       0.55      0.56      0.51      4500\n",
      "weighted avg       0.61      0.51      0.51      4500\n",
      "\n",
      "ROC-AUC score = 0.5974876666666666\n",
      "F-0.5 score = 0.41212215643502653\n",
      "================================================================================\n"
     ]
    }
   ],
   "source": [
    "for clf in (count_lr_clf, tf_clf, tf_rf):\n",
    "    y_pred = clf.predict(X_val)\n",
    "    y_pred_proba = clf.predict_proba(X_val)[:,1]\n",
    "    f_beta_score = fbeta_score(y_val, y_pred, beta=0.5, pos_label='subjective')\n",
    "    print(clf['clf'])\n",
    "    print(classification_report(y_val, clf.predict(X_val)))\n",
    "    print(f'ROC-AUC score = {roc_auc_score(y_val, y_pred_proba)}')\n",
    "    print(f'F-0.5 score = {f_beta_score}')\n",
    "    print('='*80)"
   ]
  },
  {
   "cell_type": "code",
   "execution_count": 26,
   "metadata": {},
   "outputs": [
    {
     "name": "stdout",
     "output_type": "stream",
     "text": [
      "RandomForestClassifier(bootstrap=True, class_weight=None, criterion='gini',\n",
      "                       max_depth=20, max_features='auto', max_leaf_nodes=None,\n",
      "                       min_impurity_decrease=0.0, min_impurity_split=None,\n",
      "                       min_samples_leaf=1, min_samples_split=2,\n",
      "                       min_weight_fraction_leaf=0.0, n_estimators=4000,\n",
      "                       n_jobs=-1, oob_score=False, random_state=42, verbose=0,\n",
      "                       warm_start=False)\n",
      "              precision    recall  f1-score   support\n",
      "\n",
      "     neutral       0.73      0.41      0.52      3000\n",
      "  subjective       0.37      0.71      0.49      1500\n",
      "\n",
      "    accuracy                           0.51      4500\n",
      "   macro avg       0.55      0.56      0.51      4500\n",
      "weighted avg       0.61      0.51      0.51      4500\n",
      "\n",
      "ROC-AUC score = 0.5974876666666666\n",
      "F-0.5 score = 0.41212215643502653\n",
      "================================================================================\n"
     ]
    }
   ],
   "source": [
    "for clf in (tf_rf,):\n",
    "    y_pred = clf.predict(X_val)\n",
    "    y_pred_proba = clf.predict_proba(X_val)[:,1]\n",
    "    f_beta_score = fbeta_score(y_val, y_pred, beta=0.5, pos_label='subjective')\n",
    "    print(clf['clf'])\n",
    "    print(classification_report(y_val, clf.predict(X_val)))\n",
    "    print(f'ROC-AUC score = {roc_auc_score(y_val, y_pred_proba)}')\n",
    "    print(f'F-0.5 score = {f_beta_score}')\n",
    "    print('='*80)"
   ]
  },
  {
   "cell_type": "code",
   "execution_count": 27,
   "metadata": {},
   "outputs": [],
   "source": [
    "vect = Pipeline([\n",
    "    ('vect', TfidfVectorizer(min_df=3,  max_features=None, \n",
    "            strip_accents='unicode', analyzer='word',\n",
    "            ngram_range=(1, 3), use_idf=1,smooth_idf=1,sublinear_tf=1)),\n",
    "    ('scaler', StandardScaler(with_mean=False)),\n",
    "])"
   ]
  },
  {
   "cell_type": "code",
   "execution_count": 28,
   "metadata": {},
   "outputs": [],
   "source": [
    "X_train_feats = vect.fit_transform(X_train)\n",
    "X_dev_feats = vect.transform(X_dev)\n",
    "X_test_feats = vect.transform(X_val)"
   ]
  },
  {
   "cell_type": "code",
   "execution_count": 29,
   "metadata": {},
   "outputs": [],
   "source": [
    "#vect['vect'].get_feature_names()"
   ]
  },
  {
   "cell_type": "code",
   "execution_count": 30,
   "metadata": {},
   "outputs": [
    {
     "data": {
      "text/plain": [
       "LabelEncoder()"
      ]
     },
     "execution_count": 30,
     "metadata": {},
     "output_type": "execute_result"
    }
   ],
   "source": [
    "from sklearn import preprocessing\n",
    "le = preprocessing.LabelEncoder()\n",
    "le.fit(y_dev)"
   ]
  },
  {
   "cell_type": "markdown",
   "metadata": {},
   "source": [
    "Зроблю ще спробу навчити XGBoost \"з коробки\""
   ]
  },
  {
   "cell_type": "code",
   "execution_count": 39,
   "metadata": {},
   "outputs": [],
   "source": [
    "import xgboost as xgb\n",
    "\n",
    "def runXGB(train_X, train_y, test_X, test_y=None, test_X2=None, seed_val=17, child=1, colsample=0.3):\n",
    "    param = {}\n",
    "    param['objective'] = 'reg:linear'\n",
    "    param['eta'] = 0.1\n",
    "    param['max_depth'] = 6\n",
    "    param['silent'] = 1\n",
    "    param['eval_metric'] = \"mae\"\n",
    "    param['min_child_weight'] = child\n",
    "    param['subsample'] = 0.8\n",
    "    param['colsample_bytree'] = colsample\n",
    "    param['seed'] = seed_val\n",
    "    num_rounds = 10000\n",
    "    \n",
    "    plst = list(param.items())\n",
    "    xgtrain = xgb.DMatrix(train_X, label=train_y, feature_names=vect['vect'].get_feature_names())\n",
    "\n",
    "    if test_y is not None:\n",
    "        xgtest = xgb.DMatrix(test_X, label=test_y, feature_names=vect['vect'].get_feature_names())\n",
    "        watchlist = [ (xgtrain,'train'), (xgtest, 'test') ]\n",
    "        model = xgb.train(plst, xgtrain, num_rounds, watchlist, early_stopping_rounds=50, verbose_eval=10)\n",
    "    else:\n",
    "        xgtest = xgb.DMatrix(test_X)\n",
    "        model = xgb.train(plst, xgtrain, num_rounds)\n",
    "\n",
    "    pred_test_y = model.predict(xgtest, ntree_limit = model.best_ntree_limit)\n",
    "    \n",
    "    return pred_test_y, model"
   ]
  },
  {
   "cell_type": "code",
   "execution_count": 40,
   "metadata": {},
   "outputs": [
    {
     "name": "stdout",
     "output_type": "stream",
     "text": [
      "[0]\ttrain-mae:0.48592\ttest-mae:0.489444\n",
      "Multiple eval metrics have been passed: 'test-mae' will be used for early stopping.\n",
      "\n",
      "Will train until test-mae hasn't improved in 50 rounds.\n",
      "[10]\ttrain-mae:0.390412\ttest-mae:0.419332\n",
      "[20]\ttrain-mae:0.32628\ttest-mae:0.374981\n",
      "[30]\ttrain-mae:0.293978\ttest-mae:0.35266\n",
      "[40]\ttrain-mae:0.266164\ttest-mae:0.335671\n",
      "[50]\ttrain-mae:0.245299\ttest-mae:0.324611\n",
      "[60]\ttrain-mae:0.234273\ttest-mae:0.318775\n",
      "[70]\ttrain-mae:0.223831\ttest-mae:0.312584\n",
      "[80]\ttrain-mae:0.216368\ttest-mae:0.309373\n",
      "[90]\ttrain-mae:0.209129\ttest-mae:0.305227\n",
      "[100]\ttrain-mae:0.203015\ttest-mae:0.303515\n",
      "[110]\ttrain-mae:0.196025\ttest-mae:0.300634\n",
      "[120]\ttrain-mae:0.190241\ttest-mae:0.299153\n",
      "[130]\ttrain-mae:0.184711\ttest-mae:0.296434\n",
      "[140]\ttrain-mae:0.180356\ttest-mae:0.294733\n",
      "[150]\ttrain-mae:0.17569\ttest-mae:0.293963\n",
      "[160]\ttrain-mae:0.171941\ttest-mae:0.293461\n",
      "[170]\ttrain-mae:0.168322\ttest-mae:0.291906\n",
      "[180]\ttrain-mae:0.164422\ttest-mae:0.291007\n",
      "[190]\ttrain-mae:0.160711\ttest-mae:0.290878\n",
      "[200]\ttrain-mae:0.157397\ttest-mae:0.289911\n",
      "[210]\ttrain-mae:0.154075\ttest-mae:0.289629\n",
      "[220]\ttrain-mae:0.150534\ttest-mae:0.288706\n",
      "[230]\ttrain-mae:0.147889\ttest-mae:0.288011\n",
      "[240]\ttrain-mae:0.144701\ttest-mae:0.28667\n",
      "[250]\ttrain-mae:0.141899\ttest-mae:0.286262\n",
      "[260]\ttrain-mae:0.139841\ttest-mae:0.285909\n",
      "[270]\ttrain-mae:0.137427\ttest-mae:0.284903\n",
      "[280]\ttrain-mae:0.134365\ttest-mae:0.283696\n",
      "[290]\ttrain-mae:0.13159\ttest-mae:0.282865\n",
      "[300]\ttrain-mae:0.129307\ttest-mae:0.282402\n",
      "[310]\ttrain-mae:0.126881\ttest-mae:0.28238\n",
      "[320]\ttrain-mae:0.125002\ttest-mae:0.282099\n",
      "[330]\ttrain-mae:0.123108\ttest-mae:0.282113\n",
      "[340]\ttrain-mae:0.121418\ttest-mae:0.281735\n",
      "[350]\ttrain-mae:0.11953\ttest-mae:0.281718\n",
      "[360]\ttrain-mae:0.117724\ttest-mae:0.281145\n",
      "[370]\ttrain-mae:0.115989\ttest-mae:0.280784\n",
      "[380]\ttrain-mae:0.113975\ttest-mae:0.280463\n",
      "[390]\ttrain-mae:0.112231\ttest-mae:0.280124\n",
      "[400]\ttrain-mae:0.110378\ttest-mae:0.279793\n",
      "[410]\ttrain-mae:0.108669\ttest-mae:0.27914\n",
      "[420]\ttrain-mae:0.106812\ttest-mae:0.279356\n",
      "[430]\ttrain-mae:0.105228\ttest-mae:0.279035\n",
      "[440]\ttrain-mae:0.103541\ttest-mae:0.279075\n",
      "[450]\ttrain-mae:0.102021\ttest-mae:0.278615\n",
      "[460]\ttrain-mae:0.100516\ttest-mae:0.278325\n",
      "[470]\ttrain-mae:0.099151\ttest-mae:0.278245\n",
      "[480]\ttrain-mae:0.097368\ttest-mae:0.277901\n",
      "[490]\ttrain-mae:0.096118\ttest-mae:0.277616\n",
      "[500]\ttrain-mae:0.094794\ttest-mae:0.277162\n",
      "[510]\ttrain-mae:0.093349\ttest-mae:0.277354\n",
      "[520]\ttrain-mae:0.092254\ttest-mae:0.277076\n",
      "[530]\ttrain-mae:0.09113\ttest-mae:0.277014\n",
      "[540]\ttrain-mae:0.089953\ttest-mae:0.277\n",
      "[550]\ttrain-mae:0.088849\ttest-mae:0.276971\n",
      "[560]\ttrain-mae:0.08763\ttest-mae:0.276856\n",
      "[570]\ttrain-mae:0.086242\ttest-mae:0.27669\n",
      "[580]\ttrain-mae:0.084836\ttest-mae:0.276108\n",
      "[590]\ttrain-mae:0.083926\ttest-mae:0.27566\n",
      "[600]\ttrain-mae:0.082839\ttest-mae:0.275084\n",
      "[610]\ttrain-mae:0.081636\ttest-mae:0.275076\n",
      "[620]\ttrain-mae:0.080604\ttest-mae:0.27508\n",
      "[630]\ttrain-mae:0.079583\ttest-mae:0.275188\n",
      "[640]\ttrain-mae:0.078633\ttest-mae:0.274904\n",
      "[650]\ttrain-mae:0.077511\ttest-mae:0.274998\n",
      "[660]\ttrain-mae:0.076607\ttest-mae:0.274692\n",
      "[670]\ttrain-mae:0.075553\ttest-mae:0.274649\n",
      "[680]\ttrain-mae:0.074452\ttest-mae:0.274582\n",
      "[690]\ttrain-mae:0.073561\ttest-mae:0.274109\n",
      "[700]\ttrain-mae:0.0725\ttest-mae:0.273972\n",
      "[710]\ttrain-mae:0.071502\ttest-mae:0.2737\n",
      "[720]\ttrain-mae:0.070581\ttest-mae:0.273632\n",
      "[730]\ttrain-mae:0.069654\ttest-mae:0.273642\n",
      "[740]\ttrain-mae:0.068657\ttest-mae:0.273498\n",
      "[750]\ttrain-mae:0.067765\ttest-mae:0.273359\n",
      "[760]\ttrain-mae:0.066797\ttest-mae:0.273525\n",
      "[770]\ttrain-mae:0.066044\ttest-mae:0.273514\n",
      "[780]\ttrain-mae:0.065051\ttest-mae:0.273303\n",
      "[790]\ttrain-mae:0.064361\ttest-mae:0.273309\n",
      "[800]\ttrain-mae:0.063637\ttest-mae:0.273514\n",
      "[810]\ttrain-mae:0.06273\ttest-mae:0.273429\n",
      "[820]\ttrain-mae:0.062038\ttest-mae:0.273503\n",
      "Stopping. Best iteration:\n",
      "[779]\ttrain-mae:0.065192\ttest-mae:0.273264\n",
      "\n"
     ]
    }
   ],
   "source": [
    "pred_dev_y, model_valid = runXGB(X_train_feats, le.transform(y_train), X_dev_feats, le.transform(y_dev))"
   ]
  },
  {
   "cell_type": "markdown",
   "metadata": {},
   "source": []
  },
  {
   "cell_type": "code",
   "execution_count": 52,
   "metadata": {},
   "outputs": [
    {
     "name": "stdout",
     "output_type": "stream",
     "text": [
      "              precision    recall  f1-score   support\n",
      "\n",
      "           0       0.71      0.70      0.70      3000\n",
      "           1       0.41      0.43      0.42      1500\n",
      "\n",
      "    accuracy                           0.61      4500\n",
      "   macro avg       0.56      0.56      0.56      4500\n",
      "weighted avg       0.61      0.61      0.61      4500\n",
      "\n",
      "ROC-AUC score = 0.5793415555555556\n",
      "F-0.5 score = 0.41688244432936306\n"
     ]
    }
   ],
   "source": [
    "y_val_xgb = le.transform(y_val)\n",
    "y_pred_vel_xgb = [1 if x > 0.8 else 0 for x in model_valid.predict(xgb.DMatrix(X_test_feats, feature_names=vect['vect'].get_feature_names()))]\n",
    "y_pred_proba_xgb = model_valid.predict(xgb.DMatrix(X_test_feats, feature_names=vect['vect'].get_feature_names()))\n",
    "\n",
    "print(classification_report(\n",
    "    y_val_xgb, \n",
    "    y_pred_vel_xgb\n",
    "))\n",
    "\n",
    "f_beta_score_xgb = fbeta_score(\n",
    "    y_val_xgb, \n",
    "    y_pred_vel_xgb, \n",
    "    beta=0.5, \n",
    ")\n",
    "print(f'ROC-AUC score = {roc_auc_score(y_val_xgb, y_pred_proba_xgb)}')\n",
    "print(f'F-0.5 score = {f_beta_score_xgb}')"
   ]
  },
  {
   "cell_type": "markdown",
   "metadata": {},
   "source": [
    "Класіфікейшн репорт на валідації трохи краще, але додаткові метрики не кращі за інші моделі. Можна вивести важливі фічі для буста."
   ]
  },
  {
   "cell_type": "code",
   "execution_count": 71,
   "metadata": {},
   "outputs": [
    {
     "data": {
      "text/plain": [
       "<matplotlib.axes._subplots.AxesSubplot at 0x7efcc049a940>"
      ]
     },
     "execution_count": 71,
     "metadata": {},
     "output_type": "execute_result"
    },
    {
     "data": {
      "image/png": "[encoded data removed]",
      "text/plain": [
       "<Figure size 2000x1000 with 1 Axes>"
      ]
     },
     "metadata": {},
     "output_type": "display_data"
    }
   ],
   "source": [
    "xgb.plot_importance(model_valid, importance_type='gain', max_num_features=40)"
   ]
  },
  {
   "cell_type": "code",
   "execution_count": 53,
   "metadata": {},
   "outputs": [
    {
     "name": "stdout",
     "output_type": "stream",
     "text": [
      " NGRAM = 2\n",
      "LABEL IS subjective\n",
      "[('те що', 154), ('тому що', 131), ('це не', 111), ('під час', 106), ('може бути', 82), ('не лише', 72), ('не може', 71), ('верховної ради', 70), ('про те', 66), ('відповідно до', 66), ('так само', 61), ('що не', 54), ('того щоб', 54), ('при цьому', 53), ('covid 19', 53), ('того що', 52), ('таким чином', 51), ('не має', 51), ('тих хто', 51), ('має бути', 49), ('ніколи не', 48), ('але не', 48), ('не буде', 45), ('вони не', 44), ('не було', 43), ('млрд грн', 43), ('до того', 42), ('2019 року', 42), ('не тільки', 42), ('для того', 41), ('ради україни', 41), ('що це', 40), ('все це', 39), ('зв язку', 39), ('2020 року', 38), ('що ми', 37), ('ми не', 37), ('до речі', 37), ('навіть якщо', 36), ('тому числі', 36)]\n",
      " \n",
      "LABEL IS neutral\n",
      "[('під час', 282), ('те що', 144), ('про це', 143), ('тому що', 114), ('про те', 72), ('за допомогою', 67), ('не було', 65), ('що це', 62), ('може бути', 60), ('2019 року', 58), ('на території', 57), ('до того', 56), ('не лише', 54), ('того як', 52), ('на початку', 51), ('верховної ради', 51), ('але не', 48), ('крім того', 47), ('того що', 44), ('це не', 43), ('що на', 42), ('не тільки', 42), ('володимир зеленський', 42), ('прим ред', 39), ('на сайті', 39), ('нагадаємо що', 38), ('ми не', 37), ('років тому', 36), ('що не', 36), ('так само', 35), ('та інших', 34), ('що вони', 34), ('що він', 34), ('після того', 34), ('президент володимир', 34), ('разом із', 33), ('поки що', 33), ('прем єр', 33), ('європейська солідарність', 33), ('таким чином', 32)]\n",
      " \n",
      " NGRAM = 3\n",
      "LABEL IS subjective\n",
      "[('верховної ради україни', 41), ('про те що', 37), ('для того щоб', 31), ('закону україни про', 24), ('так само як', 23), ('не може бути', 23), ('на те що', 23), ('на відміну від', 19), ('внесення змін до', 18), ('замість того щоб', 17), ('той же час', 16), ('після того як', 14), ('той час як', 14), ('полягає тому що', 14), ('про внесення змін', 14), ('так чи інакше', 12), ('ми не можемо', 11), ('переклав дмитро мрачник', 11), ('про те як', 11), ('відповідно до закону', 11), ('народних депутатів україни', 11), ('той факт що', 10), ('перш за все', 10), ('про намір провести', 10), ('квітня 2020 року', 10), ('національна служба здоров', 10), ('northern rock bank', 10), ('через те що', 9), ('попри те що', 9), ('це те що', 9), ('до того як', 9), ('для тих хто', 9), ('намір провести мирне', 9), ('провести мирне зібрання', 9), ('верховна рада україни', 9), ('млрд дол сша', 9), ('доларів за барель', 9), ('але це не', 8), ('це не просто', 8), ('під час карантину', 8)]\n",
      " \n",
      "LABEL IS neutral\n",
      "[('про те що', 49), ('президент володимир зеленський', 34), ('після того як', 30), ('на той час', 21), ('про це йдеться', 20), ('на відміну від', 19), ('для того щоб', 18), ('це означає що', 17), ('за його словами', 17), ('на позачерговому засіданні', 17), ('тисяч років тому', 16), ('до нашої ери', 15), ('прем єр міністр', 15), ('фракції слуга народу', 15), ('ðºð¾ð¼ð ð¾ð ð¾ñ', 14), ('через те що', 13), ('до того як', 13), ('під час перегляду', 13), ('йдеться на сайті', 13), ('так само як', 12), ('це може бути', 12), ('очікувана тривалість життя', 12), ('швидше за все', 12), ('про це він', 12), ('єр міністр денис', 12), ('міністр денис шмигаль', 12), ('ми говоримо про', 11), ('попри те що', 11), ('на близькому сході', 11), ('це йдеться на', 11), ('фракції європейська солідарність', 11), ('ми знаємо що', 10), ('найвищої міри покарання', 10), ('законопроєкту про банки', 10), ('про це повідомив', 10), ('18 лютого 2014', 10), ('на те що', 9), ('першого заступника голови', 9), ('лютого 2014 року', 9), ('депутат верховної ради', 9)]\n",
      " \n",
      "================================================================================\n",
      " NGRAM = 2\n",
      "LABEL IS subjective\n",
      "[('propn propn', 1038), ('propn та', 210), ('те що', 154), ('тому що', 131), ('це не', 111), ('propn не', 110), ('під час', 106), ('та propn', 98), ('може бути', 82), ('propn на', 74), ('що propn', 72), ('не лише', 72), ('не може', 71), ('на propn', 70), ('верховної ради', 70), ('про те', 66), ('відповідно до', 66), ('propn це', 65), ('так само', 61), ('до propn', 56), ('що не', 54), ('того щоб', 54), ('при цьому', 53), ('covid 19', 53), ('того що', 52), ('propn про', 52), ('таким чином', 51), ('не має', 51), ('тих хто', 51), ('має бути', 49), ('propn як', 49), ('ніколи не', 48), ('але не', 48), ('propn який', 47), ('ради propn', 47), ('не буде', 45), ('вони не', 44), ('не було', 43), ('млрд грн', 43), ('до того', 42)]\n",
      " \n",
      "LABEL IS neutral\n",
      "[('propn propn', 2296), ('під час', 282), ('propn та', 241), ('до propn', 158), ('те що', 144), ('про це', 143), ('propn на', 140), ('та propn', 136), ('тому що', 114), ('на propn', 114), ('propn який', 90), ('propn не', 83), ('що propn', 80), ('propn за', 79), ('про те', 72), ('року propn', 70), ('за допомогою', 67), ('не було', 65), ('що це', 62), ('може бути', 60), ('propn був', 59), ('2019 року', 58), ('на території', 57), ('до того', 56), ('президент propn', 56), ('не лише', 54), ('того як', 52), ('на початку', 51), ('верховної ради', 51), ('propn це', 49), ('але не', 48), ('крім того', 47), ('propn він', 46), ('propn де', 46), ('того що', 44), ('президента propn', 44), ('propn але', 43), ('це не', 43), ('propn також', 43), ('що на', 42)]\n",
      " \n",
      " NGRAM = 3\n",
      "LABEL IS subjective\n",
      "[('propn propn propn', 238), ('propn та propn', 83), ('propn propn та', 58), ('верховної ради propn', 43), ('про те що', 37), ('для того щоб', 31), ('та propn propn', 29), ('закону propn про', 24), ('так само як', 23), ('не може бути', 23), ('на те що', 23), ('на відміну від', 19), ('внесення змін до', 18), ('замість того щоб', 17), ('propn propn не', 16), ('той же час', 16), ('переклав propn propn', 15), ('propn propn це', 15), ('propn propn який', 15), ('після того як', 14), ('той час як', 14), ('полягає тому що', 14), ('про внесення змін', 14), ('так чи інакше', 12), ('як propn propn', 12), ('ми не можемо', 11), ('про те як', 11), ('відповідно до закону', 11), ('народних депутатів propn', 11), ('що propn не', 10), ('за словами propn', 10), ('президент propn propn', 10), ('propn propn за', 10), ('propn на propn', 10), ('той факт що', 10), ('перш за все', 10), ('про намір провести', 10), ('квітня 2020 року', 10), ('національна служба здоров', 10), ('northern rock bank', 10)]\n",
      " \n",
      "LABEL IS neutral\n",
      "[('propn propn propn', 561), ('propn та propn', 115), ('propn propn та', 68), ('propn propn який', 57), ('про те що', 49), ('президент propn propn', 42), ('propn propn на', 40), ('та propn propn', 31), ('після того як', 30), ('до propn propn', 29), ('на території propn', 22), ('на той час', 21), ('про це йдеться', 20), ('на відміну від', 19), ('propn propn був', 19), ('propn propn заявив', 19), ('для того щоб', 18), ('верховної ради propn', 18), ('ради propn propn', 18), ('це означає що', 17), ('propn заявив що', 17), ('президента propn propn', 17), ('за його словами', 17), ('міністр propn propn', 17), ('на позачерговому засіданні', 17), ('propn propn за', 16), ('тисяч років тому', 16), ('до нашої ери', 15), ('народу propn propn', 15), ('прем єр міністр', 15), ('фракції слуга народу', 15), ('європейська солідарність propn', 15), ('солідарність propn propn', 15), ('propn propn він', 14), ('propn propn це', 14), ('propn на propn', 14), ('ðºð¾ð¼ð ð¾ð ð¾ñ', 14), ('єр міністр propn', 14), ('через те що', 13), ('що propn propn', 13)]\n",
      " \n"
     ]
    }
   ],
   "source": [
    "def get_top_n_words(corpus, n=None, ngrams=2):\n",
    "    \"\"\"\n",
    "    List the top n words in a vocabulary according to occurrence in a text corpus.\n",
    "    \n",
    "    get_top_n_words([\"I love Python\", \"Python is a language programming\", \"Hello world\", \"I love the world\"]) -> \n",
    "    [('python', 2),\n",
    "     ('world', 2),\n",
    "     ('love', 2),\n",
    "     ('hello', 1),\n",
    "     ('is', 1),\n",
    "     ('programming', 1),\n",
    "     ('the', 1),\n",
    "     ('language', 1)]\n",
    "    \"\"\"\n",
    "    vec = CountVectorizer(\n",
    "        ngram_range=(ngrams,ngrams),\n",
    "    ).fit(corpus)\n",
    "    bag_of_words = vec.transform(corpus)\n",
    "    sum_words = bag_of_words.sum(axis=0) \n",
    "    words_freq = [(word, sum_words[0, idx]) for word, idx in     vec.vocabulary_.items()]\n",
    "    words_freq =sorted(words_freq, key = lambda x: x[1], reverse=True)\n",
    "    return words_freq[:n]\n",
    "\n",
    "\n",
    "\n",
    "\n",
    "for ngram in (2,3):\n",
    "    print(f' NGRAM = {ngram}')\n",
    "    for label in ('subjective', 'neutral'):\n",
    "        print(f'LABEL IS {label}')\n",
    "        label_revs = df[df['label']==label]['text'].values\n",
    "        print(get_top_n_words(label_revs, 40, ngrams=ngram))\n",
    "        print(' ')\n",
    "        \n",
    "print('='*80)\n",
    "        \n",
    "for ngram in (2,3):\n",
    "    print(f' NGRAM = {ngram}')\n",
    "    for label in ('subjective', 'neutral'):\n",
    "        print(f'LABEL IS {label}')\n",
    "        label_revs = df[df['label']==label]['text_without_propn'].values\n",
    "        print(get_top_n_words(label_revs, 40, ngrams=ngram))\n",
    "        print(' ')"
   ]
  },
  {
   "cell_type": "markdown",
   "metadata": {},
   "source": [
    "Перша спроба показала мені наступне:\n",
    "* По-перше треба більш чітко сформулати задачу. Є специфічні види цієї ненейтральності і треба або обмежитись деякими типами, або намагатись більш таргетовано їх класифікувати. Тому що зараз відбувається просто \"вгадай з якого сайту текст\". \n",
    "* По-друге, ненейтральність зазвичай сконцентрована у певних виразах, конструкціях або словах, а не по всьому параграфу. Тому треба краще поставитись до формування датасету. Наступним кроком я зроблю ручне анотування певної кількості речень, а також пошукаю кращі джерела даних.\n",
    "* Зараз моделі дуже страждають від специфічної лексики, що вживається в джерелах. Можливо можна якось позаміняти не тільки іменовані сутності, а й якісь дуже часті та характерні слова. Можливо треба краще сфокусуватись на загальних граматичних структурах, а не конкретній лексиці"
   ]
  },
  {
   "cell_type": "code",
   "execution_count": null,
   "metadata": {},
   "outputs": [],
   "source": []
  }
 ],
 "metadata": {
  "kernelspec": {
   "display_name": "Python 3",
   "language": "python",
   "name": "python3"
  },
  "language_info": {
   "codemirror_mode": {
    "name": "ipython",
    "version": 3
   },
   "file_extension": ".py",
   "mimetype": "text/x-python",
   "name": "python",
   "nbconvert_exporter": "python",
   "pygments_lexer": "ipython3",
   "version": "3.7.3"
  }
 },
 "nbformat": 4,
 "nbformat_minor": 4
}
